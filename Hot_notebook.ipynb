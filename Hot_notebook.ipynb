{
 "cells": [
  {
   "cell_type": "code",
   "execution_count": 1,
   "metadata": {},
   "outputs": [],
   "source": [
    "import pandas as pd\n",
    "import numpy as np\n",
    "import matplotlib.pyplot as plt"
   ]
  },
  {
   "cell_type": "code",
   "execution_count": 2,
   "metadata": {},
   "outputs": [],
   "source": [
    "test = pd.read_csv('./Data/house_prices_kaggle/test.csv');"
   ]
  },
  {
   "cell_type": "markdown",
   "metadata": {},
   "source": [
    "### List of useful commands for working with data with the help of PANDAS\n",
    "\n",
    "- **test.dtypes** - look through the types of all variables;  \n",
    "- **test.get_dtype_counts()** - gives a list of all data types  \n",
    "- **test.count()** - count all existing values besides NaN values\n",
    "- **test.shape** - gives the dimension of the object in the format (lines, columns); \n",
    "- **len(test)** - the length of object  \n",
    "- **test.head(number of lines) and test.tail(number of lines)** - view the top or bottom rows of the frame   \n",
    "- **test.index** - display index  \n",
    "- **test.columns** - display all columns of object  \n",
    "- **test.values** - diplay some values from the first rows  \n",
    "- **test['Street'].value_counts()** - counts all unique values  \n",
    "- **test['Street'].nunique()** - number of unique values  \n",
    "- **test.describe(** *percentiles = [.2,.4,.8]* ) - shows statistical summary of data; percentiles-percentage of summarizing  \n",
    "- **test.info()** - getting a brief description of the object  \n",
    "- **test.sort_index(axis = ..., ascending = True/False)** - sorting in the rows  \n",
    "- **test.sort_values(by = 'column_name')** - sort all data by column(-s)  \n",
    "- **test.iloc[0:4, :]** - selecting rows by location  \n",
    "- **test.isna** - mark all NaN as 'True', and non-NaN as 'False'  \n",
    "- **test.groupby('Street').sum()** - like groupby in sql; apply function sum() to the result of grouping \n",
    "- **test.align()** - the dame as join in SQL  \n",
    "- **test.stack()** - an interesting grouping. e.g., choose 3 columns and apply this function to new object. You'll see a 'stair' of values for each row  \n",
    "- **test.to_csv('name')** - writing to file with *.csv extension  \n",
    "- **test.to_excel('name')** - writing to file with *.xlsx extension  \n",
    "- **test.replace(previous_value, new_value)** - the method of replacing values    \n",
    "- **test.rename(columns = {'Id':'index'})** - rename column name  \n",
    "- **test.drop(0)** - drop the first row  \n",
    "- **test.drop(columns = 'Street')** - drop the column 'Street'  \n",
    "- **test.drop_duplicates()** - drop duplicate columns  \n",
    "- **test.sample(n=10)** - randomly select 10 rows from object  \n",
    "- **test.Street or test['Street']** - selecting one column from object  \n",
    "- **test['column_name'].astype('type')** - converting the type of column to another   \n",
    "- **test.corr()** - computing the correlations  \n",
    "- **test.corrwith(train)** - computing the correlations betwwen two objects (the same columns)  \n",
    "- **test['Street'].astype('category')** - change the previous type of the column to categorical type  \n",
    "  \n",
    "\n",
    "- **df.split('_')** - spliting the values  \n",
    "- **pd.concat([df1, df2])** - gather rows from df1 and df2 together  \n",
    "- **pd.concat([df1, df2], axis = 1)** - gather columns from df1 and df2 together  \n",
    "- **pd.melt(df)** - gather columns into rows  "
   ]
  },
  {
   "cell_type": "code",
   "execution_count": 3,
   "metadata": {},
   "outputs": [],
   "source": [
    "# The string for trying command mentioned above\n"
   ]
  }
 ],
 "metadata": {
  "kernelspec": {
   "display_name": "Python 3",
   "language": "python",
   "name": "python3"
  },
  "language_info": {
   "codemirror_mode": {
    "name": "ipython",
    "version": 3
   },
   "file_extension": ".py",
   "mimetype": "text/x-python",
   "name": "python",
   "nbconvert_exporter": "python",
   "pygments_lexer": "ipython3",
   "version": "3.7.0"
  }
 },
 "nbformat": 4,
 "nbformat_minor": 2
}
